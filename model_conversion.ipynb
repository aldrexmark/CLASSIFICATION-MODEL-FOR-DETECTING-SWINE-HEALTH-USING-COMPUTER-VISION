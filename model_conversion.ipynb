{
 "cells": [
  {
   "cell_type": "code",
   "execution_count": null,
   "id": "88872b5b-6c33-4b7f-9e09-c0041b29b86e",
   "metadata": {},
   "outputs": [],
   "source": [
    "import torch\n",
    "from ultralytics import YOLO\n",
    "\n",
    "# Load the PyTorch model\n",
    "model_pt = YOLO(r\"C:\\Users\\Aldrex\\Documents\\Thesis\\dnn_model\\best.pt\").to('cpu').eval()\n",
    "\n",
    "# Convert PyTorch model to ONNX format\n",
    "dummy_input = torch.ones((1, 3, 320, 320)).to('cuda')\n",
    "onnx_path = 'r\"C:\\Users\\Aldrex\\Documents\\Thesis\\dnn_model\\yolov8n.onnx'\n",
    "torch.onnx.export(model_pt, dummy_input, onnx_path, verbose=True)\n",
    "\n",
    "print(f\"Conversion successful. ONNX model saved at: {onnx_path}\")\n"
   ]
  },
  {
   "cell_type": "code",
   "execution_count": null,
   "id": "092acbc4-20ff-4646-8292-6a51e2511f31",
   "metadata": {},
   "outputs": [],
   "source": []
  }
 ],
 "metadata": {
  "kernelspec": {
   "display_name": "Python 3 (ipykernel)",
   "language": "python",
   "name": "python3"
  },
  "language_info": {
   "codemirror_mode": {
    "name": "ipython",
    "version": 3
   },
   "file_extension": ".py",
   "mimetype": "text/x-python",
   "name": "python",
   "nbconvert_exporter": "python",
   "pygments_lexer": "ipython3",
   "version": "3.11.1"
  }
 },
 "nbformat": 4,
 "nbformat_minor": 5
}
